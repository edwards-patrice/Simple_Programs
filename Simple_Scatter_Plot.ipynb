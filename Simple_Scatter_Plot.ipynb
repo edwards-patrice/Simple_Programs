{
  "metadata": {
    "kernelspec": {
      "name": "python",
      "display_name": "Python (Pyodide)",
      "language": "python"
    },
    "language_info": {
      "codemirror_mode": {
        "name": "python",
        "version": 3
      },
      "file_extension": ".py",
      "mimetype": "text/x-python",
      "name": "python",
      "nbconvert_exporter": "python",
      "pygments_lexer": "ipython3",
      "version": "3.8"
    }
  },
  "nbformat_minor": 5,
  "nbformat": 4,
  "cells": [
    {
      "id": "945105ef-6475-479f-b1d3-8267445af5e1",
      "cell_type": "markdown",
      "source": "# Practice File for Patrice",
      "metadata": {}
    },
    {
      "id": "d2519c56-52c3-4b8c-bd90-5d8cc97b4084",
      "cell_type": "markdown",
      "source": "This is a file that will house practice program for Patrice Edwards. ",
      "metadata": {}
    },
    {
      "id": "76408ef9-fa28-4bc3-a147-f25f40a08e5a",
      "cell_type": "code",
      "source": "#This is a sample plot in python to show a simple linear regression.\n\nimport matplotlib.pyplot as plt\n\nx=[5,4,3,2,1]\ny=[5,4,3,2,1]\n\nplt.scatter(x,y, color='red')\nplt.title(Y vs. X Data)\nplt.ylabel(\"y-ax\n",
      "metadata": {
        "trusted": true
      },
      "outputs": [],
      "execution_count": null
    }
  ]
}